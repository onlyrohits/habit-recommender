{
 "cells": [
  {
   "cell_type": "code",
   "execution_count": 1,
   "metadata": {
    "scrolled": true
   },
   "outputs": [],
   "source": [
    "import urllib2\n",
    "from bs4 import BeautifulSoup\n",
    "\n",
    "def text_title(url):\n",
    "    opener = urllib2.build_opener()\n",
    "    opener.addheaders = [('User-Agent', 'Mozilla/5.0 (Macintosh; Intel Mac OS X 10_9_3) AppleWebKit/537.75.14 (KHTML, like Gecko) Version/7.0.3 Safari/7046A194A')]\n",
    "    html = opener.open(url).read()\n",
    "    soup = BeautifulSoup(html)\n",
    "\n",
    "    # kill all script and style elements\n",
    "    for script in soup([\"script\", \"style\"]):\n",
    "        script.extract()\n",
    "\n",
    "    # get text\n",
    "    text = soup.getText()\n",
    "    print type(text)\n",
    "    title = soup.title.string\n",
    "    return text, title"
   ]
  },
  {
   "cell_type": "code",
   "execution_count": 2,
   "metadata": {},
   "outputs": [],
   "source": [
    "from pandas import DataFrame\n",
    "\n",
    "import urllib\n",
    "from bs4 import BeautifulSoup\n",
    "from BeautifulSoup import BeautifulSoup\n",
    "\n",
    "def build_data_frame(url, classification):\n",
    "    rows = []\n",
    "    index = []\n",
    "    text, title = text_title(url)\n",
    "    rows.append({'text': text, 'class': classification})\n",
    "    index.append(title)\n",
    "\n",
    "    data_frame = DataFrame(rows, index=index)\n",
    "    return data_frame"
   ]
  },
  {
   "cell_type": "code",
   "execution_count": 3,
   "metadata": {},
   "outputs": [
    {
     "name": "stdout",
     "output_type": "stream",
     "text": [
      "<type 'unicode'>\n",
      "<type 'unicode'>\n",
      "<type 'unicode'>\n",
      "<type 'unicode'>\n",
      "<type 'unicode'>\n",
      "<type 'unicode'>\n",
      "<type 'unicode'>\n",
      "<type 'unicode'>\n",
      "<type 'unicode'>\n",
      "<type 'unicode'>\n",
      "<type 'unicode'>\n",
      "<type 'unicode'>\n",
      "<type 'unicode'>\n",
      "<type 'unicode'>\n",
      "<type 'unicode'>\n",
      "<type 'unicode'>\n",
      "<type 'unicode'>\n",
      "<type 'unicode'>\n",
      "<type 'unicode'>\n",
      "<type 'unicode'>\n",
      "<type 'unicode'>\n",
      "<type 'unicode'>\n",
      "<type 'unicode'>\n",
      "<type 'unicode'>\n",
      "<type 'unicode'>\n",
      "<type 'unicode'>\n",
      "<type 'unicode'>\n",
      "<type 'unicode'>\n",
      "<type 'unicode'>\n",
      "<type 'unicode'>\n",
      "<type 'unicode'>\n",
      "<type 'unicode'>\n",
      "<type 'unicode'>\n",
      "<type 'unicode'>\n",
      "<type 'unicode'>\n",
      "<type 'unicode'>\n",
      "<type 'unicode'>\n",
      "<type 'unicode'>\n",
      "<type 'unicode'>\n",
      "<type 'unicode'>\n",
      "<type 'unicode'>\n"
     ]
    }
   ],
   "source": [
    "import urllib2\n",
    "import numpy as np\n",
    "MH = 'mental health'\n",
    "PH = 'physical health'\n",
    "PHy = 'personal hygiene'\n",
    "S = 'socializing'\n",
    "FW = 'financial well-being'\n",
    "A = 'academic'\n",
    "CC = 'career choice'\n",
    "\n",
    "SOURCES = [\n",
    "    ('https://en.wikipedia.org/wiki/Mental_health', MH),\n",
    "    ('http://www.wikihow.com/Have-Good-Mental-Health', MH),\n",
    "    ('https://www.mentalhealth.org.uk/publications/how-to-mental-health', MH),\n",
    "    ('http://www.mentalhealthamerica.net/31-tips-boost-your-mental-health', MH),\n",
    "    ('https://www.helpguide.org/articles/emotional-health/improving-emotional-health.htm', MH),\n",
    "    ('https://psychcentral.com/blog/archives/2013/05/24/20-ways-to-relax-unwind/', MH),\n",
    "    ('https://en.wikipedia.org/wiki/Physical_fitness', PH),\n",
    "    ('http://www.wikihow.com/Maintain-Your-Health', PH),\n",
    "    ('http://study.com/academy/lesson/what-is-physical-health-definition-components-examples.html', PH),\n",
    "    ('http://healthyeating.sfgate.com/reasons-eating-junk-food-not-good-3364.html', PH),\n",
    "    ('http://www.coachmag.co.uk/exercises/get-six-pack/1626/get-classic-six-pack', PH),\n",
    "    ('http://www.mensfitness.com/weight-loss/burn-fat-fast/get-six-pack-abs-10-minute-fat-burning-workout', PH),\n",
    "    ('http://www.mensfitness.com/training/pro-tips/5-essential-rules-ripped-abs', PH),\n",
    "    ('http://www.springer.com/us/book/9780306463150', PH),\n",
    "    ('http://www.unitedway.org/blog/five-steps-to-improved-physical-health', PH),\n",
    "    ('https://www.healthstatus.com/health_blog/wellness/seven-fitness-tips-for-improved-physical-health/', PH),\n",
    "    ('http://www.mensfitness.com/training/workout-routines/plyometric-workout-jump-start-fat-loss', PH),\n",
    "    ('http://www.mensfitness.com/training/workout-routines/beginners-guide-getting-ripped', PH),\n",
    "    ('http://www.health.gov.au/internet/publications/publishing.nsf/Content/ohp-enhealth-manual-atsi-cnt-l~ohp-enhealth-manual-atsi-cnt-l-ch3~ohp-enhealth-manual-atsi-cnt-l-ch3.7', PHy),\n",
    "    ('https://en.wikipedia.org/wiki/Hygiene', PHy),\n",
    "    ('http://www.everydayhealth.com/healthy-living/guide-to-good-hygiene.aspx', PHy),\n",
    "    ('http://www.webmd.com/oral-health/healthy-mouth-15/your-healthy-mouth/get-rid-bad-breath', PHy),\n",
    "    ('https://en.wikipedia.org/wiki/Socialization', S),\n",
    "    ('http://www.wikihow.com/Socialize', S),\n",
    "    ('http://www.wikihow.com/Socialize-Smoothly', S),\n",
    "    ('http://socialpronow.com/blog/socializing-at-work-or-in-college/', S),\n",
    "    ('https://www.themuse.com/advice/the-introverts-painfree-guide-to-socializing-with-coworkers', S),\n",
    "    ('http://hrpost.hellowallet.com/retirement/financial-wellness-5-elements-financial-wellbeing/', FW),\n",
    "    ('http://www.investopedia.com/walkthrough/corporate-finance/5/raising-capital/introduction.aspx', FW),\n",
    "    ('http://www.huffingtonpost.com/susie-moore/8-tips-for-financial-well_b_4688164.html', FW),\n",
    "    ('http://www.benefitspro.com/2016/11/04/10-tips-for-employee-financial-wellness', FW),\n",
    "    ('http://www.mycollegesuccessstory.com/academic-success-tools/tips-for-improving-grades.html', A),\n",
    "    ('https://www.uww.edu/academicstandards/how-to/improve', A),\n",
    "    ('https://www.oxford-royale.co.uk/articles/improve-underperforming-grades.html', A),\n",
    "    ('https://students.ucsd.edu/academics/success/tips.html', A),\n",
    "    ('http://www.apa.org/news/press/releases/2014/04/girls-grades.aspx', A),\n",
    "    ('https://www.thebalance.com/steps-to-choosing-career-525506', CC),\n",
    "    ('https://www.123test.com/career-choice/', CC),\n",
    "    ('http://www.businessinsider.com/great-careers-college-kids-often-ignore', CC),\n",
    "    ('https://www.kent.ac.uk/careers/Choosing/choosingintro.htm', CC),\n",
    "    ('http://www.wikihow.com/Choose-the-Right-Career', CC),\n",
    "]\n",
    "\n",
    "data = DataFrame({'text': [], 'class': []})\n",
    "for path, classification in SOURCES:\n",
    "    data = data.append(build_data_frame(path, classification))\n",
    "\n",
    "data = data.reindex(np.random.permutation(data.index))"
   ]
  },
  {
   "cell_type": "code",
   "execution_count": 6,
   "metadata": {},
   "outputs": [
    {
     "data": {
      "text/plain": [
       "Pipeline(steps=[('vectorizer', CountVectorizer(analyzer=u'word', binary=False, decode_error=u'strict',\n",
       "        dtype=<type 'numpy.int64'>, encoding=u'utf-8', input=u'content',\n",
       "        lowercase=True, max_df=1.0, max_features=None, min_df=1,\n",
       "        ngram_range=(1, 1), preprocessor=None, stop_words=None,\n",
       "    ...         use_idf=True)), ('classifier', MultinomialNB(alpha=1.0, class_prior=None, fit_prior=True))])"
      ]
     },
     "execution_count": 6,
     "metadata": {},
     "output_type": "execute_result"
    }
   ],
   "source": [
    "from sklearn.feature_extraction.text import CountVectorizer\n",
    "from sklearn.feature_extraction.text import TfidfTransformer\n",
    "from sklearn.naive_bayes import MultinomialNB\n",
    "from sklearn.pipeline import Pipeline\n",
    "\n",
    "pipeline = Pipeline([\n",
    "    ('vectorizer',  CountVectorizer()),\n",
    "    ('tfidf_transformer',  TfidfTransformer()),\n",
    "    ('classifier',  MultinomialNB()) ])\n",
    "\n",
    "pipeline.fit(data['text'].values, data['class'].values)"
   ]
  },
  {
   "cell_type": "code",
   "execution_count": null,
   "metadata": {
    "collapsed": true
   },
   "outputs": [],
   "source": []
  }
 ],
 "metadata": {
  "anaconda-cloud": {},
  "kernelspec": {
   "display_name": "Python [Root]",
   "language": "python",
   "name": "Python [Root]"
  },
  "language_info": {
   "codemirror_mode": {
    "name": "ipython",
    "version": 2
   },
   "file_extension": ".py",
   "mimetype": "text/x-python",
   "name": "python",
   "nbconvert_exporter": "python",
   "pygments_lexer": "ipython2",
   "version": "2.7.15"
  }
 },
 "nbformat": 4,
 "nbformat_minor": 1
}
